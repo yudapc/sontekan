{
 "cells": [
  {
   "cell_type": "code",
   "execution_count": 9,
   "metadata": {},
   "outputs": [],
   "source": [
    "import math\n",
    "import os\n",
    "from six.moves import xrange\n",
    "import numpy as np\n",
    "import tensorflow as tf\n",
    "from tensorflow.contrib.learn.python.learn.datasets.mnist import read_data_sets\n",
    "\n",
    "%matplotlib inline\n",
    "import matplotlib.pyplot as plt"
   ]
  },
  {
   "cell_type": "code",
   "execution_count": 2,
   "metadata": {},
   "outputs": [],
   "source": [
    "NUM_CLASSES = 10\n",
    "\n",
    "IMAGE_SIZE = 28\n",
    "IMAGE_PIXELS = IMAGE_SIZE * IMAGE_SIZE\n",
    "\n",
    "BATCH_SIZE = 100\n",
    "EVAL_BATCH_SIZE = 1\n",
    "\n",
    "HIDDEN1_UNITS = 128\n",
    "HIDDEN2_UNITS = 32\n",
    "\n",
    "MAX_STEPS = 3000\n",
    "\n",
    "MNIST_DIR=\"mnist\"\n",
    "TRAIN_DIR=\"train\""
   ]
  },
  {
   "cell_type": "code",
   "execution_count": 3,
   "metadata": {
    "scrolled": true
   },
   "outputs": [
    {
     "name": "stdout",
     "output_type": "stream",
     "text": [
      "Successfully downloaded train-images-idx3-ubyte.gz 9912422 bytes.\n",
      "Extracting mnist/train-images-idx3-ubyte.gz\n",
      "Successfully downloaded train-labels-idx1-ubyte.gz 28881 bytes.\n",
      "Extracting mnist/train-labels-idx1-ubyte.gz\n",
      "Successfully downloaded t10k-images-idx3-ubyte.gz 1648877 bytes.\n",
      "Extracting mnist/t10k-images-idx3-ubyte.gz\n",
      "Successfully downloaded t10k-labels-idx1-ubyte.gz 4542 bytes.\n",
      "Extracting mnist/t10k-labels-idx1-ubyte.gz\n"
     ]
    }
   ],
   "source": [
    "data_sets = read_data_sets(MNIST_DIR, False)"
   ]
  },
  {
   "cell_type": "code",
   "execution_count": 4,
   "metadata": {},
   "outputs": [],
   "source": [
    "def mnist_inference(images, hidden1_units, hidden2_units):\n",
    "    with tf.name_scope('hidden1'):\n",
    "        weights = tf.Variable(tf.truncated_normal([IMAGE_PIXELS, hidden1_units], stddev=1.0 / math.sqrt(float(IMAGE_PIXELS))), name='weights')\n",
    "        biases = tf.Variable(tf.zeros([hidden1_units]), name='biases')\n",
    "        hidden1 = tf.nn.relu(tf.matmul(images, weights) + biases)\n",
    "    \n",
    "    with tf.name_scope('hidden2'):\n",
    "        weights = tf.Variable(tf.truncated_normal([hidden1_units, hidden2_units], stddev=1.0 / math.sqrt(float(hidden1_units))), name='weights')\n",
    "        biases = tf.Variable(tf.zeros([hidden2_units]), name='biases')\n",
    "        hidden2 = tf.nn.relu(tf.matmul(hidden1, weights) + biases)\n",
    "        \n",
    "    with tf.name_scope('softmax_linear'):\n",
    "        weights = tf.Variable(tf.truncated_normal([hidden2_units, NUM_CLASSES], stddev=1.0 / math.sqrt(float(hidden2_units))), name='weights')\n",
    "        biases = tf.Variable(tf.zeros([NUM_CLASSES]), name='biases')\n",
    "        logits = tf.matmul(hidden2, weights) + biases\n",
    "    \n",
    "    # tf.train.write_graph(tf.get_default_graph().as_graph_def(), \"tmp\", \"inference.pbtxt\", as_text=True)\n",
    "        \n",
    "    return logits"
   ]
  },
  {
   "cell_type": "code",
   "execution_count": 5,
   "metadata": {},
   "outputs": [],
   "source": [
    "def mnist_training(logits, labels, learning_rate):\n",
    "    labels = tf.to_int64(labels)\n",
    "    cross_entropy = tf.nn.sparse_softmax_cross_entropy_with_logits(logits=logits, labels=labels, name='xentropy')\n",
    "    loss = tf.reduce_mean(cross_entropy, name='xentropy_mean')\n",
    "    optimizer = tf.train.GradientDescentOptimizer(learning_rate)\n",
    "    global_step = tf.Variable(0, name='global_step', trainable=False)\n",
    "    train_op = optimizer.minimize(loss, global_step=global_step)\n",
    "    \n",
    "    # tf.train.write_graph(tf.get_default_graph().as_graph_def(), \"tmp\", \"train.pbtxt\", as_text=True)\n",
    "    \n",
    "    return train_op, loss"
   ]
  },
  {
   "cell_type": "code",
   "execution_count": 6,
   "metadata": {},
   "outputs": [],
   "source": [
    "mnist_graph = tf.Graph()\n",
    "with mnist_graph.as_default():\n",
    "    images_placeholder = tf.placeholder(tf.float32)\n",
    "    labels_placeholder = tf.placeholder(tf.int32)\n",
    "    tf.add_to_collection(\"images\", images_placeholder)\n",
    "    tf.add_to_collection(\"labels\", labels_placeholder)\n",
    "    \n",
    "    logits = mnist_inference(images_placeholder, HIDDEN1_UNITS, HIDDEN2_UNITS)\n",
    "    tf.add_to_collection(\"logits\", logits)\n",
    "    \n",
    "    train_op, loss = mnist_training(logits, labels_placeholder, 0.01)\n",
    "    \n",
    "    init = tf.global_variables_initializer()\n",
    "    \n",
    "    saver = tf.train.Saver()\n",
    "    \n",
    "    # tf.train.write_graph(tf.get_default_graph().as_graph_def(), \"tmp\", \"complete.pbtxt\", as_text=True)"
   ]
  },
  {
   "cell_type": "code",
   "execution_count": 7,
   "metadata": {},
   "outputs": [
    {
     "name": "stdout",
     "output_type": "stream",
     "text": [
      "Step 0: loss = 2.28\n",
      "Step 1000: loss = 0.45\n",
      "Step 2000: loss = 0.28\n",
      "Step 2999: loss = 0.14\n"
     ]
    },
    {
     "data": {
      "image/png": "[encoded data removed]",
      "text/plain": [
       "<matplotlib.figure.Figure at 0x104e0bdd0>"
      ]
     },
     "metadata": {},
     "output_type": "display_data"
    }
   ],
   "source": [
    "with tf.Session(graph=mnist_graph) as sess:\n",
    "    sess.run(init)\n",
    "    \n",
    "    losses = []\n",
    "    \n",
    "    for step in xrange(MAX_STEPS):\n",
    "        images_feed, labels_feed = data_sets.train.next_batch(BATCH_SIZE)\n",
    "        _, loss_value = sess.run([train_op, loss], feed_dict={images_placeholder: images_feed, labels_placeholder: labels_feed})\n",
    "\n",
    "        losses.append(loss_value)\n",
    "\n",
    "        if((step % 1000 == 0) or (step == MAX_STEPS - 1)):\n",
    "            print('Step %d: loss = %.2f' % (step, loss_value))\n",
    "    \n",
    "    plt.plot(losses)\n",
    "    \n",
    "    checkpoint_file = os.path.join(TRAIN_DIR, 'checkpoint')\n",
    "    saver.save(sess, checkpoint_file, global_step=step)"
   ]
  },
  {
   "cell_type": "code",
   "execution_count": 8,
   "metadata": {},
   "outputs": [
    {
     "name": "stdout",
     "output_type": "stream",
     "text": [
      "INFO:tensorflow:Restoring parameters from train/checkpoint-2999\n",
      "Ground truth: 0\n",
      "Prediction: 0\n"
     ]
    },
    {
     "data": {
      "image/png": "[encoded data removed]",
      "text/plain": [
       "<matplotlib.figure.Figure at 0x104c61c50>"
      ]
     },
     "metadata": {},
     "output_type": "display_data"
    }
   ],
   "source": [
    "with tf.Session(graph=tf.Graph()) as sess:\n",
    "    saver = tf.train.import_meta_graph(os.path.join(TRAIN_DIR, \"checkpoint-\" + str(MAX_STEPS - 1) + \".meta\"))\n",
    "    saver.restore(sess, os.path.join(TRAIN_DIR, \"checkpoint-\" + str(MAX_STEPS - 1)))\n",
    "    \n",
    "    logits = tf.get_collection('logits')[0]\n",
    "    images_placeholder = tf.get_collection('images')[0]\n",
    "    labels_placeholder = tf.get_collection('labels')[0]\n",
    "    \n",
    "    eval_op = tf.nn.top_k(logits)\n",
    "    \n",
    "    images_feed, labels_feed = data_sets.validation.next_batch(EVAL_BATCH_SIZE)\n",
    "    imgplot = plt.imshow(np.reshape(images_feed, (IMAGE_SIZE, IMAGE_SIZE)))\n",
    "    \n",
    "    prediction = sess.run(eval_op, feed_dict={images_placeholder: images_feed, labels_placeholder: labels_feed})\n",
    "    \n",
    "    print('Ground truth: %d\\nPrediction: %d' % (labels_feed, prediction.indices[0][0]))"
   ]
  }
 ],
 "metadata": {
  "kernelspec": {
   "display_name": "Python 2",
   "language": "python",
   "name": "python2"
  },
  "language_info": {
   "codemirror_mode": {
    "name": "ipython",
    "version": 2
   },
   "file_extension": ".py",
   "mimetype": "text/x-python",
   "name": "python",
   "nbconvert_exporter": "python",
   "pygments_lexer": "ipython2",
   "version": "2.7.10"
  }
 },
 "nbformat": 4,
 "nbformat_minor": 2
}
