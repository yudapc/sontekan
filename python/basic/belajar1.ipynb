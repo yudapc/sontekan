{
 "cells": [
  {
   "cell_type": "code",
   "execution_count": 1,
   "metadata": {},
   "outputs": [
    {
     "name": "stdout",
     "output_type": "stream",
     "text": [
      "Sarah\n",
      "Yara\n",
      "Annisa\n",
      "Eli\n",
      "\n",
      "Done...\n"
     ]
    }
   ],
   "source": [
    "names = [\"Sarah\", \"Yara\", \"Annisa\", \"Eli\"]\n",
    "\n",
    "# Loop over list.\n",
    "for name in names:\n",
    "    print(name)\n",
    "print(\"\\nDone...\")"
   ]
  },
  {
   "cell_type": "code",
   "execution_count": 2,
   "metadata": {},
   "outputs": [
    {
     "name": "stdout",
     "output_type": "stream",
     "text": [
      "---------------------\n",
      "bebek running...\n",
      "---------------------\n",
      "bebek running on on the way\n",
      "---------------------\n",
      "bebek walking...\n"
     ]
    }
   ],
   "source": [
    "class Animal:\n",
    "    def __init__(self, name):\n",
    "        self.name = name\n",
    "    def run(self, place = ''):\n",
    "        if (place):\n",
    "            return self.name + \" running on \" + place\n",
    "        return self.name + \" running...\"\n",
    "    def walk(self):\n",
    "        return self.name + \" walking...\"\n",
    "        \n",
    "bebek = Animal(\"bebek\")\n",
    "bebek_run = bebek.run()\n",
    "bebek_run_on_theway = bebek.run(\"on the way\")\n",
    "bebek_walk = bebek.walk()\n",
    "print(\"---------------------\")\n",
    "print(bebek_run)\n",
    "print(\"---------------------\")\n",
    "print(bebek_run_on_theway)\n",
    "print(\"---------------------\")\n",
    "print(bebek_walk)"
   ]
  },
  {
   "cell_type": "code",
   "execution_count": 3,
   "metadata": {},
   "outputs": [
    {
     "name": "stdout",
     "output_type": "stream",
     "text": [
      "0\n",
      "1\n",
      "1\n",
      "2\n",
      "3\n",
      "5\n",
      "8\n",
      "13\n",
      "21\n",
      "34\n"
     ]
    }
   ],
   "source": [
    "#fibonacci\n",
    "def fibonacci(n):\n",
    "    a = 0\n",
    "    b = 1\n",
    "    for i in range(n):\n",
    "        temp = a\n",
    "        a = b\n",
    "        b = temp + b\n",
    "    return a\n",
    "\n",
    "#loop fibonacci by range 10\n",
    "for i in range(10):\n",
    "    fib = fibonacci(i)\n",
    "    print(fib)"
   ]
  },
  {
   "cell_type": "code",
   "execution_count": 4,
   "metadata": {},
   "outputs": [
    {
     "name": "stdout",
     "output_type": "stream",
     "text": [
      "FizzBuzz\n",
      "1\n",
      "2\n",
      "Fizz\n",
      "4\n",
      "Buzz\n",
      "Fizz\n",
      "7\n",
      "8\n",
      "Fizz\n",
      "Buzz\n",
      "11\n",
      "Fizz\n",
      "13\n",
      "14\n",
      "FizzBuzz\n",
      "16\n",
      "17\n",
      "Fizz\n",
      "19\n",
      "Buzz\n",
      "Fizz\n",
      "22\n",
      "23\n",
      "Fizz\n",
      "Buzz\n",
      "26\n",
      "Fizz\n",
      "28\n",
      "29\n"
     ]
    }
   ],
   "source": [
    "#fizzbuzz\n",
    "for i in range(30):\n",
    "    x = \"\"\n",
    "    if (i%3 == 0):\n",
    "        x = x + \"Fizz\"\n",
    "    if (i%5 == 0):\n",
    "        x = x + \"Buzz\"\n",
    "    if ((i%3 != 0) & (i%5 != 0)):\n",
    "        x = i\n",
    "        \n",
    "    print(x)"
   ]
  },
  {
   "cell_type": "code",
   "execution_count": 5,
   "metadata": {},
   "outputs": [
    {
     "name": "stdout",
     "output_type": "stream",
     "text": [
      "blog.apalah.com\n"
     ]
    }
   ],
   "source": [
    "#uri\n",
    "from urllib.parse import urlparse\n",
    "full_url = \"https://blog.apalah.com/category\"\n",
    "uri_parse = urlparse(full_url)\n",
    "print(uri_parse.hostname) #get host"
   ]
  },
  {
   "cell_type": "code",
   "execution_count": 6,
   "metadata": {},
   "outputs": [
    {
     "name": "stdout",
     "output_type": "stream",
     "text": [
      "\n",
      "*\n",
      "**\n",
      "***\n",
      "****\n",
      "*****\n"
     ]
    }
   ],
   "source": [
    "#bintang1\n",
    "for i in range(6):\n",
    "    print(\"*\" * i)"
   ]
  },
  {
   "cell_type": "code",
   "execution_count": 7,
   "metadata": {},
   "outputs": [
    {
     "name": "stdout",
     "output_type": "stream",
     "text": [
      "       \n",
      "      *\n",
      "     **\n",
      "    ***\n",
      "   ****\n",
      "  *****\n",
      " ******\n"
     ]
    }
   ],
   "source": [
    "#bintang2\n",
    "n = 7\n",
    "for i in range(n):\n",
    "    space = \" \"\n",
    "    start = \"*\"\n",
    "    print(space * (n - i) + start * i)"
   ]
  },
  {
   "cell_type": "code",
   "execution_count": 8,
   "metadata": {},
   "outputs": [
    {
     "name": "stdout",
     "output_type": "stream",
     "text": [
      "Masukkan angka :5\n",
      "               \n",
      "\n",
      "             * \n",
      "\n",
      "          *  *  * \n",
      "\n",
      "       *  *  *  *  * \n",
      "\n",
      "    *  *  *  *  *  *  * \n",
      "\n",
      " *  *  *  *  *  *  *  *  * \n",
      "\n",
      "\n"
     ]
    }
   ],
   "source": [
    "#bintang3\n",
    "string = \"\"\n",
    "\n",
    "x = int(input(\"Masukkan angka :\"))\n",
    "bar = x\n",
    "# Looping Baris\n",
    "while bar >= 0:\n",
    "  # Looping Kolom Spasi Kosong\n",
    "  kol = bar\n",
    "  while kol > 0:\n",
    "    string = string + \"   \"\n",
    "    kol = kol - 1\n",
    "  # Looping Kolom Bintang Sisi Kiri\n",
    "  kiri = 1\n",
    "  while kiri < (x - (bar-1)):\n",
    "    string = string + \" * \"\n",
    "    kiri = kiri + 1\n",
    "  # Looping Kolom Bintang Sisi Kanan\n",
    "  kanan = 1\n",
    "  while kanan < kiri -1:\n",
    "    string = string + \" * \"\n",
    "    kanan = kanan + 1\n",
    "\n",
    "  string = string + \"\\n\\n\"\n",
    "  bar = bar - 1\n",
    "  \n",
    "print (string)"
   ]
  },
  {
   "cell_type": "code",
   "execution_count": 9,
   "metadata": {},
   "outputs": [
    {
     "name": "stdout",
     "output_type": "stream",
     "text": [
      "[2, 3, 4, 5, 6, 8, 9, 10]\n"
     ]
    }
   ],
   "source": [
    "#array\n",
    "\n",
    "##array sort1\n",
    "arr = [4,6,5,8,10,9,2,3]\n",
    "arr.sort()\n",
    "print(arr)"
   ]
  },
  {
   "cell_type": "code",
   "execution_count": 10,
   "metadata": {},
   "outputs": [
    {
     "name": "stdout",
     "output_type": "stream",
     "text": [
      "you are watching tv\n"
     ]
    }
   ],
   "source": [
    "##array join\n",
    "arr = [\"you\", \"are\", \"watching\", \"tv\"]\n",
    "result = \" \".join(arr)\n",
    "print(result)"
   ]
  },
  {
   "cell_type": "code",
   "execution_count": 11,
   "metadata": {},
   "outputs": [
    {
     "name": "stdout",
     "output_type": "stream",
     "text": [
      "['you', 'are', 'watching', 'tv', 'now']\n"
     ]
    }
   ],
   "source": [
    "##array append\n",
    "arr = [\"you\", \"are\", \"watching\", \"tv\"]\n",
    "arr.append(\"now\")\n",
    "print(arr)"
   ]
  },
  {
   "cell_type": "code",
   "execution_count": 12,
   "metadata": {},
   "outputs": [
    {
     "name": "stdout",
     "output_type": "stream",
     "text": [
      "['they', 'are', 'watching', 'tv']\n"
     ]
    }
   ],
   "source": [
    "##array change value\n",
    "arr = [\"you\", \"are\", \"watching\", \"tv\"]\n",
    "arr[0] = \"they\"\n",
    "print(arr)"
   ]
  },
  {
   "cell_type": "code",
   "execution_count": 13,
   "metadata": {},
   "outputs": [
    {
     "name": "stdout",
     "output_type": "stream",
     "text": [
      "['you', 'were', 'watching', 'tv']\n"
     ]
    }
   ],
   "source": [
    "##array change value with condition\n",
    "arr = [\"you\", \"are\", \"watching\", \"tv\"]\n",
    "for i, val in enumerate(arr):\n",
    "    if (val == \"are\"):\n",
    "        arr[i] = \"were\"\n",
    "print(arr)"
   ]
  },
  {
   "cell_type": "code",
   "execution_count": 14,
   "metadata": {},
   "outputs": [
    {
     "name": "stdout",
     "output_type": "stream",
     "text": [
      "value of array: \n",
      "['She', 'is', 'Smart', 'People']\n",
      "--------------------------\n",
      "value of array in string: \n",
      "She is Smart People\n"
     ]
    }
   ],
   "source": [
    "##array merge\n",
    "arr1 = [\"She\", \"is\"]\n",
    "arr2 = [\"Smart\", \"People\"]\n",
    "arr_merge = arr1 + arr2\n",
    "print(\"value of array: \")\n",
    "print(arr_merge)\n",
    "print(\"--------------------------\")\n",
    "print(\"value of array in string: \")\n",
    "string_arr = \" \".join(arr_merge)\n",
    "print(string_arr)"
   ]
  },
  {
   "cell_type": "code",
   "execution_count": 15,
   "metadata": {},
   "outputs": [
    {
     "data": {
      "text/plain": [
       "str"
      ]
     },
     "execution_count": 15,
     "metadata": {},
     "output_type": "execute_result"
    }
   ],
   "source": [
    "#type data\n",
    "s = \"I am Software Engineer\"\n",
    "type(s)"
   ]
  },
  {
   "cell_type": "code",
   "execution_count": 16,
   "metadata": {},
   "outputs": [
    {
     "data": {
      "text/plain": [
       "int"
      ]
     },
     "execution_count": 16,
     "metadata": {},
     "output_type": "execute_result"
    }
   ],
   "source": [
    "#type data\n",
    "integer = 1209\n",
    "type(integer)"
   ]
  },
  {
   "cell_type": "code",
   "execution_count": 18,
   "metadata": {},
   "outputs": [
    {
     "name": "stdout",
     "output_type": "stream",
     "text": [
      "45\n"
     ]
    }
   ],
   "source": [
    "#array count all element\n",
    "arr = [1, 2, 3, 4, 5, 6, 7, 8, 9]\n",
    "total = 0\n",
    "for val in arr:\n",
    "    total = total + val\n",
    "print(total)"
   ]
  },
  {
   "cell_type": "code",
   "execution_count": 19,
   "metadata": {},
   "outputs": [
    {
     "data": {
      "text/plain": [
       "45"
      ]
     },
     "execution_count": 19,
     "metadata": {},
     "output_type": "execute_result"
    }
   ],
   "source": [
    "#array count all element using numpy\n",
    "import numpy as np\n",
    "arr = [1, 2, 3, 4, 5, 6, 7, 8, 9]\n",
    "np.sum(arr)"
   ]
  },
  {
   "cell_type": "code",
   "execution_count": null,
   "metadata": {},
   "outputs": [],
   "source": []
  }
 ],
 "metadata": {
  "kernelspec": {
   "display_name": "Python 3",
   "language": "python",
   "name": "python3"
  },
  "language_info": {
   "codemirror_mode": {
    "name": "ipython",
    "version": 3
   },
   "file_extension": ".py",
   "mimetype": "text/x-python",
   "name": "python",
   "nbconvert_exporter": "python",
   "pygments_lexer": "ipython3",
   "version": "3.6.3"
  }
 },
 "nbformat": 4,
 "nbformat_minor": 2
}
